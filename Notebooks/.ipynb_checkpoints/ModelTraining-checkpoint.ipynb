{
 "cells": [
  {
   "cell_type": "markdown",
   "metadata": {},
   "source": [
    "# Classifying Google Voice Commands Using CNN\n",
    "\n",
    "### Model Training and Evaluation "
   ]
  },
  {
   "cell_type": "markdown",
   "metadata": {},
   "source": [
    "### Load Preprocessed data "
   ]
  },
  {
   "cell_type": "code",
   "execution_count": 2,
   "metadata": {},
   "outputs": [],
   "source": [
    "# Retrieve the preprocessed data from the files you created in the last notebook \n",
    "# (Please complete the previous notebook first!!)\n",
    "import os\n",
    "import numpy as np\n",
    "from random import shuffle\n",
    "\n",
    "np.random.seed(1)\n",
    "# SET THIS TO THE DIRECTORY WHERE YOU CREATED THE PREPROCESSED FILES IN THE LAST NOTEBOOK !\n",
    "preprocessed_dir = '../Preproc'\n",
    "dir_name = '../googleData'\n",
    "train_path = os.path.join(preprocessed_dir, 'train')\n",
    "test_path = os.path.join(preprocessed_dir, 'test')\n",
    "class_names = sorted(os.listdir(train_path))"
   ]
  },
  {
   "cell_type": "markdown",
   "metadata": {},
   "source": [
    "Now lets make a function for loading all our preprocessed data."
   ]
  },
  {
   "cell_type": "code",
   "execution_count": 3,
   "metadata": {},
   "outputs": [],
   "source": [
    "def load_data(data_dir):\n",
    "    class_names = sorted(os.listdir(data_dir))\n",
    "    nb_classes = len(class_names)\n",
    "    print(\"class_names = \",class_names)\n",
    "\n",
    "    for (dirpath, dirnames, filenames) in os.walk(os.path.join(data_dir, class_names[0])):\n",
    "        with np.load(os.path.join(data_dir, class_names[0], filenames[0])) as sample_file:\n",
    "            mel_dims = sample_file['melgram'].shape\n",
    "\n",
    "    total_load = 0\n",
    "    for classname in class_names:\n",
    "        files = os.listdir(os.path.join(data_dir, classname))\n",
    "        n_files = len(files)\n",
    "        total_load += n_files\n",
    "\n",
    "    X = np.zeros((total_load, mel_dims[1], mel_dims[2], mel_dims[3]))\n",
    "    Y = np.zeros((total_load, nb_classes))\n",
    "    paths = []\n",
    "\n",
    "    load_count = 0\n",
    "    num_classes = len(class_names)\n",
    "    label_smoothing = 0.005\n",
    "\n",
    "    for idx, classname in enumerate(class_names):\n",
    "        # Vector smoothing means that some allowance is made for classes where the the files \n",
    "        idx = class_names.index(classname)\n",
    "        vec = np.zeros(num_classes)\n",
    "        vec[idx] = 1\n",
    "        vec = vec * (1 - label_smoothing) + label_smoothing / num_classes\n",
    "\n",
    "        this_Y = np.array(vec)\n",
    "        this_Y = this_Y[np.newaxis,:]\n",
    "        file_list = os.listdir(os.path.join(data_dir, classname))\n",
    "        shuffle(file_list)  # just to remove any special ordering\n",
    "\n",
    "        for _, infilename in enumerate(file_list): \n",
    "            audio_path = os.path.join(data_dir, classname, infilename)\n",
    "            with np.load(audio_path) as data:\n",
    "                melgram = data['melgram']\n",
    "            if melgram.shape != mel_dims:\n",
    "                raise Exception('Dimension mismatch {} vs {}'.format(melgram.shape, mel_dims))\n",
    "\n",
    "            X[load_count,:,:] = melgram[:,:,:]\n",
    "            Y[load_count,:] = this_Y\n",
    "            paths.append(audio_path)\n",
    "            load_count += 1\n",
    "        print('Successfully processed {} files for class {}'\n",
    "              .format(len(file_list), classname))\n",
    "\n",
    "\n",
    "\n",
    "    assert (X.shape[0] == Y.shape[0] )\n",
    "    # Shuffle the classes up \n",
    "    idx = np.array(range(Y.shape[0]))\n",
    "    np.random.shuffle(idx)\n",
    "    newX = np.copy(X)\n",
    "    newY = np.copy(Y)\n",
    "    for i in range(len(idx)):\n",
    "        newX[i] = X[idx[i],:,:]\n",
    "        newY[i] = Y[idx[i],:]\n",
    "\n",
    "    return newX, newY"
   ]
  },
  {
   "cell_type": "markdown",
   "metadata": {},
   "source": [
    "Next let's load both the training and test data."
   ]
  },
  {
   "cell_type": "code",
   "execution_count": 4,
   "metadata": {},
   "outputs": [
    {
     "name": "stdout",
     "output_type": "stream",
     "text": [
      "class_names =  ['bed', 'bird', 'cat', 'dog', 'down', 'eight', 'five', 'four', 'go', 'happy', 'house', 'left', 'marvin', 'nine', 'no', 'off', 'on', 'one', 'right', 'seven', 'sheila', 'six', 'stop', 'three', 'tree', 'two', 'up', 'wow', 'yes', 'zero']\n",
      "Successfully processed 1456 files for class bed\n",
      "Successfully processed 1471 files for class bird\n",
      "Successfully processed 1473 files for class cat\n",
      "Successfully processed 1484 files for class dog\n",
      "Successfully processed 2005 files for class down\n",
      "Successfully processed 1999 files for class eight\n",
      "Successfully processed 2003 files for class five\n",
      "Successfully processed 2016 files for class four\n",
      "Successfully processed 2016 files for class go\n",
      "Successfully processed 1480 files for class happy\n",
      "Successfully processed 1487 files for class house\n",
      "Successfully processed 2000 files for class left\n",
      "Successfully processed 1484 files for class marvin\n",
      "Successfully processed 2009 files for class nine\n",
      "Successfully processed 2018 files for class no\n",
      "Successfully processed 2003 files for class off\n",
      "Successfully processed 2011 files for class on\n",
      "Successfully processed 2014 files for class one\n",
      "Successfully processed 2011 files for class right\n",
      "Successfully processed 2020 files for class seven\n",
      "Successfully processed 1473 files for class sheila\n",
      "Successfully processed 2013 files for class six\n",
      "Successfully processed 2023 files for class stop\n",
      "Successfully processed 2002 files for class three\n",
      "Successfully processed 1473 files for class tree\n",
      "Successfully processed 2017 files for class two\n",
      "Successfully processed 2018 files for class up\n",
      "Successfully processed 1483 files for class wow\n",
      "Successfully processed 2020 files for class yes\n",
      "Successfully processed 2019 files for class zero\n",
      "class_names =  ['bed', 'bird', 'cat', 'dog', 'down', 'eight', 'five', 'four', 'go', 'happy', 'house', 'left', 'marvin', 'nine', 'no', 'off', 'on', 'one', 'right', 'seven', 'sheila', 'six', 'stop', 'three', 'tree', 'two', 'up', 'wow', 'yes', 'zero']\n",
      "Successfully processed 257 files for class bed\n",
      "Successfully processed 260 files for class bird\n",
      "Successfully processed 260 files for class cat\n",
      "Successfully processed 262 files for class dog\n",
      "Successfully processed 354 files for class down\n",
      "Successfully processed 353 files for class eight\n",
      "Successfully processed 354 files for class five\n",
      "Successfully processed 356 files for class four\n",
      "Successfully processed 356 files for class go\n",
      "Successfully processed 262 files for class happy\n",
      "Successfully processed 263 files for class house\n",
      "Successfully processed 353 files for class left\n",
      "Successfully processed 262 files for class marvin\n",
      "Successfully processed 355 files for class nine\n",
      "Successfully processed 357 files for class no\n",
      "Successfully processed 354 files for class off\n",
      "Successfully processed 356 files for class on\n",
      "Successfully processed 356 files for class one\n",
      "Successfully processed 356 files for class right\n",
      "Successfully processed 357 files for class seven\n",
      "Successfully processed 261 files for class sheila\n",
      "Successfully processed 356 files for class six\n",
      "Successfully processed 357 files for class stop\n",
      "Successfully processed 354 files for class three\n",
      "Successfully processed 260 files for class tree\n",
      "Successfully processed 356 files for class two\n",
      "Successfully processed 357 files for class up\n",
      "Successfully processed 262 files for class wow\n",
      "Successfully processed 357 files for class yes\n",
      "Successfully processed 357 files for class zero\n"
     ]
    }
   ],
   "source": [
    "\n",
    "X_train, Y_train = load_data(train_path)\n",
    "X_test, Y_test = load_data(test_path)"
   ]
  },
  {
   "cell_type": "markdown",
   "metadata": {},
   "source": [
    "### Initial model architecture - CNN\n",
    "\n",
    "#### Describe archtecture here !!"
   ]
  },
  {
   "cell_type": "code",
   "execution_count": 5,
   "metadata": {},
   "outputs": [
    {
     "name": "stdout",
     "output_type": "stream",
     "text": [
      " CNN: X_shape =  (55001, 96, 87, 1) , channels =  1\n",
      "WARNING:tensorflow:Large dropout rate: 0.6 (>0.5). In TensorFlow 2.x, dropout() uses dropout rate instead of keep_prob. Please ensure that this is intended.\n"
     ]
    }
   ],
   "source": [
    "from keras import backend as K\n",
    "from keras.models import Sequential,  load_model, save_model\n",
    "from keras.layers import Input, Dense, Dropout, Activation\n",
    "from keras.layers import Convolution2D, MaxPooling2D, Flatten, Conv2D\n",
    "from keras.layers.normalization import BatchNormalization\n",
    "\n",
    "nb_layers=4\n",
    "K.set_image_data_format('channels_last')                   \n",
    "nb_filters = 32  # number of convolutional filters\n",
    "kernel_size = (3, 3)  # convolution kernel size\n",
    "pool_size = (2, 2)  # size of pooling area for max pooling\n",
    "cl_dropout = 0.5    # conv. layer \n",
    "dl_dropout = 0.6    # dense layer \n",
    "X_shape = X_train.shape\n",
    "\n",
    "print(\" CNN: X_shape = \",X_shape,\", channels = \",X_shape[3])\n",
    "input_shape = (X_shape[1], X_shape[2], X_shape[3])\n",
    "model = Sequential()\n",
    "model.add(Conv2D(nb_filters, kernel_size, padding='same', input_shape=input_shape, name=\"Input\"))\n",
    "model.add(MaxPooling2D(pool_size=pool_size))\n",
    "model.add(Activation('relu'))      \n",
    "model.add(BatchNormalization(axis=-1)) \n",
    "\n",
    "for layer in range(nb_layers-1):   \n",
    "    model.add(Conv2D(nb_filters, kernel_size, padding='same'))\n",
    "    model.add(MaxPooling2D(pool_size=pool_size))\n",
    "    model.add(Activation('elu'))\n",
    "    model.add(Dropout(cl_dropout))\n",
    "\n",
    "model.add(Flatten())\n",
    "model.add(Dense(128))  \n",
    "model.add(Activation('elu'))\n",
    "model.add(Dropout(dl_dropout))\n",
    "model.add(Dense(len(class_names)))\n",
    "model.add(Activation(\"softmax\",name=\"Output\"))\n",
    "\n"
   ]
  },
  {
   "cell_type": "markdown",
   "metadata": {},
   "source": [
    "### Compiling the model \n",
    "\n",
    "Next compile the model\n"
   ]
  },
  {
   "cell_type": "code",
   "execution_count": 6,
   "metadata": {},
   "outputs": [
    {
     "name": "stdout",
     "output_type": "stream",
     "text": [
      "Model: \"sequential_1\"\n",
      "_________________________________________________________________\n",
      "Layer (type)                 Output Shape              Param #   \n",
      "=================================================================\n",
      "Input (Conv2D)               (None, 96, 87, 32)        320       \n",
      "_________________________________________________________________\n",
      "max_pooling2d_1 (MaxPooling2 (None, 48, 43, 32)        0         \n",
      "_________________________________________________________________\n",
      "activation_1 (Activation)    (None, 48, 43, 32)        0         \n",
      "_________________________________________________________________\n",
      "batch_normalization_1 (Batch (None, 48, 43, 32)        128       \n",
      "_________________________________________________________________\n",
      "conv2d_1 (Conv2D)            (None, 48, 43, 32)        9248      \n",
      "_________________________________________________________________\n",
      "max_pooling2d_2 (MaxPooling2 (None, 24, 21, 32)        0         \n",
      "_________________________________________________________________\n",
      "activation_2 (Activation)    (None, 24, 21, 32)        0         \n",
      "_________________________________________________________________\n",
      "dropout_1 (Dropout)          (None, 24, 21, 32)        0         \n",
      "_________________________________________________________________\n",
      "conv2d_2 (Conv2D)            (None, 24, 21, 32)        9248      \n",
      "_________________________________________________________________\n",
      "max_pooling2d_3 (MaxPooling2 (None, 12, 10, 32)        0         \n",
      "_________________________________________________________________\n",
      "activation_3 (Activation)    (None, 12, 10, 32)        0         \n",
      "_________________________________________________________________\n",
      "dropout_2 (Dropout)          (None, 12, 10, 32)        0         \n",
      "_________________________________________________________________\n",
      "conv2d_3 (Conv2D)            (None, 12, 10, 32)        9248      \n",
      "_________________________________________________________________\n",
      "max_pooling2d_4 (MaxPooling2 (None, 6, 5, 32)          0         \n",
      "_________________________________________________________________\n",
      "activation_4 (Activation)    (None, 6, 5, 32)          0         \n",
      "_________________________________________________________________\n",
      "dropout_3 (Dropout)          (None, 6, 5, 32)          0         \n",
      "_________________________________________________________________\n",
      "flatten_1 (Flatten)          (None, 960)               0         \n",
      "_________________________________________________________________\n",
      "dense_1 (Dense)              (None, 128)               123008    \n",
      "_________________________________________________________________\n",
      "activation_5 (Activation)    (None, 128)               0         \n",
      "_________________________________________________________________\n",
      "dropout_4 (Dropout)          (None, 128)               0         \n",
      "_________________________________________________________________\n",
      "dense_2 (Dense)              (None, 30)                3870      \n",
      "_________________________________________________________________\n",
      "Output (Activation)          (None, 30)                0         \n",
      "=================================================================\n",
      "Total params: 155,070\n",
      "Trainable params: 155,006\n",
      "Non-trainable params: 64\n",
      "_________________________________________________________________\n"
     ]
    }
   ],
   "source": [
    "# Compile the model\n",
    "model.compile(loss='categorical_crossentropy', optimizer='adadelta', metrics=['accuracy'])\n",
    "model.summary()"
   ]
  },
  {
   "cell_type": "markdown",
   "metadata": {},
   "source": [
    "Get diagram"
   ]
  },
  {
   "cell_type": "code",
   "execution_count": 8,
   "metadata": {},
   "outputs": [
    {
     "ename": "ImportError",
     "evalue": "Failed to import `pydot`. Please install `pydot`. For example with `pip install pydot`.",
     "output_type": "error",
     "traceback": [
      "\u001b[0;31m---------------------------------------------------------------------------\u001b[0m",
      "\u001b[0;31mImportError\u001b[0m                               Traceback (most recent call last)",
      "\u001b[0;32m<ipython-input-8-afb1594f4ccd>\u001b[0m in \u001b[0;36m<module>\u001b[0;34m\u001b[0m\n\u001b[1;32m      2\u001b[0m \u001b[0;32mimport\u001b[0m \u001b[0mnumpy\u001b[0m \u001b[0;32mas\u001b[0m \u001b[0mnp\u001b[0m\u001b[0;34m\u001b[0m\u001b[0;34m\u001b[0m\u001b[0m\n\u001b[1;32m      3\u001b[0m \u001b[0;34m\u001b[0m\u001b[0m\n\u001b[0;32m----> 4\u001b[0;31m \u001b[0mplot_model\u001b[0m\u001b[0;34m(\u001b[0m\u001b[0mmodel\u001b[0m\u001b[0;34m)\u001b[0m\u001b[0;34m\u001b[0m\u001b[0;34m\u001b[0m\u001b[0m\n\u001b[0m",
      "\u001b[0;32m~/workspace/cnn_command_classifier/venv/lib/python3.6/site-packages/keras/utils/vis_utils.py\u001b[0m in \u001b[0;36mplot_model\u001b[0;34m(model, to_file, show_shapes, show_layer_names, rankdir, expand_nested, dpi)\u001b[0m\n\u001b[1;32m    238\u001b[0m     \"\"\"\n\u001b[1;32m    239\u001b[0m     dot = model_to_dot(model, show_shapes, show_layer_names, rankdir,\n\u001b[0;32m--> 240\u001b[0;31m                        expand_nested, dpi)\n\u001b[0m\u001b[1;32m    241\u001b[0m     \u001b[0m_\u001b[0m\u001b[0;34m,\u001b[0m \u001b[0mextension\u001b[0m \u001b[0;34m=\u001b[0m \u001b[0mos\u001b[0m\u001b[0;34m.\u001b[0m\u001b[0mpath\u001b[0m\u001b[0;34m.\u001b[0m\u001b[0msplitext\u001b[0m\u001b[0;34m(\u001b[0m\u001b[0mto_file\u001b[0m\u001b[0;34m)\u001b[0m\u001b[0;34m\u001b[0m\u001b[0;34m\u001b[0m\u001b[0m\n\u001b[1;32m    242\u001b[0m     \u001b[0;32mif\u001b[0m \u001b[0;32mnot\u001b[0m \u001b[0mextension\u001b[0m\u001b[0;34m:\u001b[0m\u001b[0;34m\u001b[0m\u001b[0;34m\u001b[0m\u001b[0m\n",
      "\u001b[0;32m~/workspace/cnn_command_classifier/venv/lib/python3.6/site-packages/keras/utils/vis_utils.py\u001b[0m in \u001b[0;36mmodel_to_dot\u001b[0;34m(model, show_shapes, show_layer_names, rankdir, expand_nested, dpi, subgraph)\u001b[0m\n\u001b[1;32m     77\u001b[0m     \u001b[0;32mfrom\u001b[0m \u001b[0;34m.\u001b[0m\u001b[0;34m.\u001b[0m\u001b[0mmodels\u001b[0m \u001b[0;32mimport\u001b[0m \u001b[0mSequential\u001b[0m\u001b[0;34m\u001b[0m\u001b[0;34m\u001b[0m\u001b[0m\n\u001b[1;32m     78\u001b[0m \u001b[0;34m\u001b[0m\u001b[0m\n\u001b[0;32m---> 79\u001b[0;31m     \u001b[0m_check_pydot\u001b[0m\u001b[0;34m(\u001b[0m\u001b[0;34m)\u001b[0m\u001b[0;34m\u001b[0m\u001b[0;34m\u001b[0m\u001b[0m\n\u001b[0m\u001b[1;32m     80\u001b[0m     \u001b[0;32mif\u001b[0m \u001b[0msubgraph\u001b[0m\u001b[0;34m:\u001b[0m\u001b[0;34m\u001b[0m\u001b[0;34m\u001b[0m\u001b[0m\n\u001b[1;32m     81\u001b[0m         \u001b[0mdot\u001b[0m \u001b[0;34m=\u001b[0m \u001b[0mpydot\u001b[0m\u001b[0;34m.\u001b[0m\u001b[0mCluster\u001b[0m\u001b[0;34m(\u001b[0m\u001b[0mstyle\u001b[0m\u001b[0;34m=\u001b[0m\u001b[0;34m'dashed'\u001b[0m\u001b[0;34m,\u001b[0m \u001b[0mgraph_name\u001b[0m\u001b[0;34m=\u001b[0m\u001b[0mmodel\u001b[0m\u001b[0;34m.\u001b[0m\u001b[0mname\u001b[0m\u001b[0;34m)\u001b[0m\u001b[0;34m\u001b[0m\u001b[0;34m\u001b[0m\u001b[0m\n",
      "\u001b[0;32m~/workspace/cnn_command_classifier/venv/lib/python3.6/site-packages/keras/utils/vis_utils.py\u001b[0m in \u001b[0;36m_check_pydot\u001b[0;34m()\u001b[0m\n\u001b[1;32m     20\u001b[0m     \u001b[0;32mif\u001b[0m \u001b[0mpydot\u001b[0m \u001b[0;32mis\u001b[0m \u001b[0;32mNone\u001b[0m\u001b[0;34m:\u001b[0m\u001b[0;34m\u001b[0m\u001b[0;34m\u001b[0m\u001b[0m\n\u001b[1;32m     21\u001b[0m         raise ImportError(\n\u001b[0;32m---> 22\u001b[0;31m             \u001b[0;34m'Failed to import `pydot`. '\u001b[0m\u001b[0;34m\u001b[0m\u001b[0;34m\u001b[0m\u001b[0m\n\u001b[0m\u001b[1;32m     23\u001b[0m             \u001b[0;34m'Please install `pydot`. '\u001b[0m\u001b[0;34m\u001b[0m\u001b[0;34m\u001b[0m\u001b[0m\n\u001b[1;32m     24\u001b[0m             'For example with `pip install pydot`.')\n",
      "\u001b[0;31mImportError\u001b[0m: Failed to import `pydot`. Please install `pydot`. For example with `pip install pydot`."
     ]
    }
   ],
   "source": [
    "from keras.utils import plot_model\n",
    "import numpy as np\n",
    "\n",
    "plot_model(model)"
   ]
  },
  {
   "cell_type": "markdown",
   "metadata": {},
   "source": [
    "#### Training the model\n",
    "Here let's train the model. Since the train/test split was set by default to .85/.15; here setting the train/val split to .8/.2 results in a train/val/test split of roughly .7/.15/.15"
   ]
  },
  {
   "cell_type": "code",
   "execution_count": 6,
   "metadata": {},
   "outputs": [
    {
     "name": "stdout",
     "output_type": "stream",
     "text": [
      "WARNING:tensorflow:Large dropout rate: 0.6 (>0.5). In TensorFlow 2.x, dropout() uses dropout rate instead of keep_prob. Please ensure that this is intended.\n",
      "Loading Weights from file weights.hdf5\n"
     ]
    }
   ],
   "source": [
    "from keras.callbacks import ModelCheckpoint \n",
    "from keras.models import load_model\n",
    "\n",
    "# Display model architecture summary \n",
    "val_split = 0.2\n",
    "epochs = 100 # 100 (but since I have already trained the weights file I don't need to retrain.)\n",
    "# In order to retrain from scratch please delete the weights file and set the epochs to between 20 - 100\n",
    "batch_size = 32\n",
    "\n",
    "split_index = int(X_train.shape[0]*(1-val_split))\n",
    "X_val_data, Y_val_data = X_train[split_index:], Y_train[split_index:]\n",
    "X_train_data, Y_train_data = X_train[:split_index-1], Y_train[:split_index-1]\n",
    "weights_file='weights.hdf5'\n",
    "\n",
    "if os.path.isfile(weights_file):\n",
    "    loaded_model = load_model(weights_file) \n",
    "    model.set_weights( loaded_model.get_weights() )  \n",
    "    print('Loading Weights from file {}'.format(weights_file))\n",
    "\n",
    "checkpointer = ModelCheckpoint(filepath=weights_file, \n",
    "                               verbose=1, save_best_only=True)\n",
    "\n",
    "model.fit(X_train_data, Y_train_data, batch_size=batch_size, epochs=epochs, shuffle=True,  callbacks=[checkpointer],\n",
    "              verbose=1, validation_data=(X_val_data, Y_val_data))\n",
    "\n"
   ]
  },
  {
   "cell_type": "markdown",
   "metadata": {},
   "source": [
    "### Test the model \n",
    "\n",
    "Here we will review the accuracy of the model on both the training and test data sets (here the training data is a compination of both the Train + Val sets). "
   ]
  },
  {
   "cell_type": "code",
   "execution_count": 7,
   "metadata": {},
   "outputs": [
    {
     "name": "stdout",
     "output_type": "stream",
     "text": [
      "Training Accuracy:  0.9081653356552124\n",
      "Testing Accuracy:  0.8955761194229126\n"
     ]
    }
   ],
   "source": [
    "# Evaluating the model on the training and testing set\n",
    "score = model.evaluate(X_train, Y_train, verbose=0)\n",
    "print(\"Training Accuracy: \", score[1])\n",
    "\n",
    "score = model.evaluate(X_test, Y_test, verbose=0)\n",
    "print(\"Testing Accuracy: \", score[1])"
   ]
  },
  {
   "cell_type": "markdown",
   "metadata": {},
   "source": [
    "Both training and test scores are quite high, suggesting the model has not overfit as there is little difference between the training and test models"
   ]
  },
  {
   "cell_type": "markdown",
   "metadata": {},
   "source": [
    "## Confusion matrix\n",
    "Lets build a confusion matrix of results"
   ]
  },
  {
   "cell_type": "code",
   "execution_count": 41,
   "metadata": {},
   "outputs": [],
   "source": [
    "import numpy as np\n",
    "import matplotlib.pyplot as plt\n",
    "import itertools\n",
    "\n",
    "def plot_confusion_matrix(cm, classes,\n",
    "                      normalize=False,\n",
    "                      title='Confusion matrix',\n",
    "                      cmap=plt.cm.Blues):\n",
    "    \"\"\"\n",
    "    This function prints and plots the confusion matrix.\n",
    "    Normalization can be applied by setting `normalize=True`.\n",
    "\n",
    "    Original source: scikit-learn documentation\n",
    "    \"\"\"\n",
    "    plt.figure(figsize=(22,12))\n",
    "    plt.subplot(1,2,1)\n",
    "    if normalize:\n",
    "        cm = cm.astype('float') / cm.sum(axis=1)[:, np.newaxis]\n",
    "        title = title+\" (normalized) \\n\"\n",
    "    else:\n",
    "        title = title+\"\\n\"\n",
    "\n",
    "    plt.imshow(cm, interpolation='nearest', cmap=cmap)\n",
    "    plt.title(title)\n",
    "    plt.colorbar()\n",
    "    tick_marks = np.arange(len(classes))\n",
    "    plt.xticks(tick_marks, classes, rotation=90)\n",
    "    plt.yticks(tick_marks, classes)\n",
    "\n",
    "    fmt = '.2f' if normalize else 'd'\n",
    "    thresh = cm.max() / 2.\n",
    "    for i, j in itertools.product(range(cm.shape[0]), range(cm.shape[1])):\n",
    "        plt.text(j, i, format(cm[i, j], fmt),\n",
    "                 horizontalalignment=\"center\",\n",
    "                 color=\"white\" if cm[i, j] > thresh else \"black\")\n",
    "\n",
    "    plt.ylabel('True label')\n",
    "    plt.xlabel('Predicted label')\n",
    "    plt.tight_layout()\n"
   ]
  },
  {
   "cell_type": "code",
   "execution_count": 42,
   "metadata": {},
   "outputs": [
    {
     "name": "stdout",
     "output_type": "stream",
     "text": [
      "9720/9720 [==============================] - 9s 890us/step\n"
     ]
    },
    {
     "data": {
      "image/png": "[encoded data removed]",
      "text/plain": [
       "<Figure size 1584x864 with 2 Axes>"
      ]
     },
     "metadata": {
      "needs_background": "light"
     },
     "output_type": "display_data"
    }
   ],
   "source": [
    "from sklearn.metrics import classification_report, confusion_matrix\n",
    "import sklearn.metrics as skmetrics\n",
    "Y_pred = model.predict_classes(X_test, verbose=1)\n",
    "Y_truth = np.argmax(Y_test, axis=1)\n",
    "\n",
    "\n",
    "plot_confusion_matrix(skmetrics.confusion_matrix(y_true=Y_truth, y_pred=Y_pred), class_names)\n",
    "\n"
   ]
  },
  {
   "cell_type": "code",
   "execution_count": 11,
   "metadata": {},
   "outputs": [
    {
     "name": "stdout",
     "output_type": "stream",
     "text": [
      "[15 11 20 ... 27 22  3] [16 11 20 ... 27 22  3]\n"
     ]
    }
   ],
   "source": [
    "print(Y_pred,  np.argmax(Y_test, axis=1)) "
   ]
  },
  {
   "cell_type": "markdown",
   "metadata": {},
   "source": [
    "### Predictions  \n",
    "\n",
    "Lets look closer as to what the model predicts, first set the labels"
   ]
  },
  {
   "cell_type": "code",
   "execution_count": 8,
   "metadata": {},
   "outputs": [],
   "source": [
    "from sklearn.preprocessing import LabelEncoder\n",
    "from keras.utils import to_categorical\n",
    "\n",
    "# Convert features and corresponding classification labels into numpy arrays\n",
    "y = np.array(class_names)\n",
    "\n",
    "# Encode the classification labels\n",
    "le = LabelEncoder()\n",
    "yy = to_categorical(le.fit_transform(y)) "
   ]
  },
  {
   "cell_type": "markdown",
   "metadata": {},
   "source": [
    "Make a function for creating mel spectrograms from wav files"
   ]
  },
  {
   "cell_type": "code",
   "execution_count": 9,
   "metadata": {},
   "outputs": [],
   "source": [
    "import librosa \n",
    "import numpy as np \n",
    "\n",
    "def extract_melgram(file_name):\n",
    "    signal, sr = librosa.load(file_name, mono=False, sr=44100)\n",
    "    if len(signal.shape) == 1:\n",
    "        signal = np.reshape(signal, (1, signal.shape[0]))\n",
    "    \n",
    "    # Make sure all files have the same amount of data by padding empty space with 0\n",
    "    shape = signal.shape\n",
    "    max_shape = (1, sr) # Sample Rate is max_shape\n",
    "    padded_signal = np.zeros(max_shape)     \n",
    "    use_shape = list(max_shape[:])\n",
    "    use_shape[0] = min( shape[0], max_shape[0] )\n",
    "    use_shape[1] = min( shape[1], max_shape[1] )\n",
    "\n",
    "    padded_signal[:use_shape[0], :use_shape[1]] = signal[:use_shape[0], :use_shape[1]]\n",
    "    melgram = librosa.amplitude_to_db(librosa.feature.melspectrogram(padded_signal[0], sr=sr, n_mels=96))[np.newaxis,:,:,np.newaxis] \n",
    "    melgram = melgram.astype(np.float16)\n",
    "    return  melgram\n"
   ]
  },
  {
   "cell_type": "markdown",
   "metadata": {},
   "source": [
    "Make a function for predicting output from these wab files"
   ]
  },
  {
   "cell_type": "code",
   "execution_count": 10,
   "metadata": {},
   "outputs": [],
   "source": [
    "def print_prediction(file_name):\n",
    "    prediction_feature = extract_melgram(file_name) \n",
    "\n",
    "    predicted_vector = model.predict_classes(prediction_feature)\n",
    "    predicted_class = le.inverse_transform(predicted_vector) \n",
    "\n",
    "    predicted_proba_vector = model.predict_proba(prediction_feature) \n",
    "    predicted_proba = predicted_proba_vector[0]\n",
    "    for i in range(len(predicted_proba)): \n",
    "        category = le.inverse_transform(np.array([i]))\n",
    "        print(category[0], \"\\t\\t : \", format(predicted_proba[i], '.32f') )"
   ]
  },
  {
   "cell_type": "markdown",
   "metadata": {},
   "source": [
    "### Data exploration \n",
    "\n",
    "Now lets use these functions to examine presictions from the test dataset more closely"
   ]
  },
  {
   "cell_type": "code",
   "execution_count": 11,
   "metadata": {},
   "outputs": [
    {
     "name": "stdout",
     "output_type": "stream",
     "text": [
      "bed \t\t :  0.00005253347990219481289386749268\n",
      "bird \t\t :  0.00001033396347338566556572914124\n",
      "cat \t\t :  0.00097990257199853658676147460938\n",
      "dog \t\t :  0.00179204682353883981704711914062\n",
      "down \t\t :  0.04893958196043968200683593750000\n",
      "eight \t\t :  0.00000632218461760203354060649872\n",
      "five \t\t :  0.00000029669809009646996855735779\n",
      "four \t\t :  0.00005753804725827649235725402832\n",
      "go \t\t :  0.05414555966854095458984375000000\n",
      "happy \t\t :  0.00000810750862001441419124603271\n",
      "house \t\t :  0.00033942901063710451126098632812\n",
      "left \t\t :  0.00110550620593130588531494140625\n",
      "marvin \t\t :  0.00006271145684877410531044006348\n",
      "nine \t\t :  0.00122681527864187955856323242188\n",
      "no \t\t :  0.80255246162414550781250000000000\n",
      "off \t\t :  0.00001262950354430358856916427612\n",
      "on \t\t :  0.00000056981002671818714588880539\n",
      "one \t\t :  0.00013598210352938622236251831055\n",
      "right \t\t :  0.00002105480416503269225358963013\n",
      "seven \t\t :  0.00000228422982218035031110048294\n",
      "sheila \t\t :  0.00021371454931795597076416015625\n",
      "six \t\t :  0.00000028094027015868050511926413\n",
      "stop \t\t :  0.00036033475771546363830566406250\n",
      "three \t\t :  0.00000856663427839521318674087524\n",
      "tree \t\t :  0.00000305608932649192865937948227\n",
      "two \t\t :  0.00021390049369074404239654541016\n",
      "up \t\t :  0.00000731168211132171563804149628\n",
      "wow \t\t :  0.00084104400593787431716918945312\n",
      "yes \t\t :  0.08156600594520568847656250000000\n",
      "zero \t\t :  0.00533412769436836242675781250000\n"
     ]
    }
   ],
   "source": [
    "filename = os.path.join(dir_name, 'no/692a88e6_nohash_3.wav')\n",
    "print_prediction(filename) "
   ]
  },
  {
   "cell_type": "code",
   "execution_count": 12,
   "metadata": {
    "scrolled": true
   },
   "outputs": [
    {
     "name": "stdout",
     "output_type": "stream",
     "text": [
      "bed \t\t :  0.00000000015882060944161224824711\n",
      "bird \t\t :  0.00000000001743351123184577744496\n",
      "cat \t\t :  0.00000000000219354352390399576223\n",
      "dog \t\t :  0.00000000000532284589668807761598\n",
      "down \t\t :  0.00000000000156870772882039544172\n",
      "eight \t\t :  0.00000001710475672211941855493933\n",
      "five \t\t :  0.00000000876910988267809443641454\n",
      "four \t\t :  0.00000000000338283893085156162073\n",
      "go \t\t :  0.00000000001498946279598900588326\n",
      "happy \t\t :  0.00000000001720282076511647773032\n",
      "house \t\t :  0.00000000472221417524565367784817\n",
      "left \t\t :  0.00000005662435142994581838138402\n",
      "marvin \t\t :  0.00000000062507854448057287299889\n",
      "nine \t\t :  0.00000040312158944288967177271843\n",
      "no \t\t :  0.00000000006279772535311423098392\n",
      "off \t\t :  0.00000000000241764290878632159831\n",
      "on \t\t :  0.00000000000107585533364040752957\n",
      "one \t\t :  0.00000007173624538836520514450967\n",
      "right \t\t :  0.99998664855957031250000000000000\n",
      "seven \t\t :  0.00000000000005334997038326100283\n",
      "sheila \t\t :  0.00000000000057192320540924712624\n",
      "six \t\t :  0.00000002181897684749856125563383\n",
      "stop \t\t :  0.00000000000008296864578835258519\n",
      "three \t\t :  0.00001274309306609211489558219910\n",
      "tree \t\t :  0.00000001607186561614071251824498\n",
      "two \t\t :  0.00000000000000029011378722294259\n",
      "up \t\t :  0.00000000000006878131826029351692\n",
      "wow \t\t :  0.00000000211661488336289949074853\n",
      "yes \t\t :  0.00000000068611649695071719179396\n",
      "zero \t\t :  0.00000000046293391342544509825530\n"
     ]
    }
   ],
   "source": [
    "filename = os.path.join(dir_name, 'right/3411cf4b_nohash_0.wav')\n",
    "print_prediction(filename) "
   ]
  },
  {
   "cell_type": "code",
   "execution_count": 13,
   "metadata": {},
   "outputs": [
    {
     "name": "stdout",
     "output_type": "stream",
     "text": [
      "bed \t\t :  0.00000000000265810051920667422820\n",
      "bird \t\t :  0.00000000296045832293145849689608\n",
      "cat \t\t :  0.00000000000352969541615733017892\n",
      "dog \t\t :  0.00000000000212229669602215231805\n",
      "down \t\t :  0.00000000001860807341547143778371\n",
      "eight \t\t :  0.00000119451635782752418890595436\n",
      "five \t\t :  0.00000000132606114977562583590043\n",
      "four \t\t :  0.00000000397341182178934104740620\n",
      "go \t\t :  0.00000000000809312599575617852565\n",
      "happy \t\t :  0.00000001830850315798215888207778\n",
      "house \t\t :  0.00000000005191679725013997881433\n",
      "left \t\t :  0.00000000000641617444938069603211\n",
      "marvin \t\t :  0.00000000009636638015342313678957\n",
      "nine \t\t :  0.00000000921466636327750165946782\n",
      "no \t\t :  0.00000000000196577064522085454001\n",
      "off \t\t :  0.00000000006510335326392890920033\n",
      "on \t\t :  0.00000000893825014003368778503500\n",
      "one \t\t :  0.00000000335776273452381701645209\n",
      "right \t\t :  0.00000001813555883245498989708722\n",
      "seven \t\t :  0.00000000000256287070558858243174\n",
      "sheila \t\t :  0.00000000061154065145174740791845\n",
      "six \t\t :  0.00000000066200039894326323519635\n",
      "stop \t\t :  0.00000000000152176752102328727290\n",
      "three \t\t :  0.98574650287628173828125000000000\n",
      "tree \t\t :  0.01425230316817760467529296875000\n",
      "two \t\t :  0.00000000326131521788397549244110\n",
      "up \t\t :  0.00000000000146975790912828863100\n",
      "wow \t\t :  0.00000000000625149758348708672884\n",
      "yes \t\t :  0.00000000000042805692259013927714\n",
      "zero \t\t :  0.00000000154807688890201688991510\n"
     ]
    }
   ],
   "source": [
    "filename = os.path.join(dir_name, 'three/38d78313_nohash_2.wav')\n",
    "print_prediction(filename) "
   ]
  },
  {
   "cell_type": "code",
   "execution_count": 14,
   "metadata": {
    "scrolled": true
   },
   "outputs": [
    {
     "name": "stdout",
     "output_type": "stream",
     "text": [
      "bed \t\t :  0.00000008966682685240812133997679\n",
      "bird \t\t :  0.00000042289923385396832600235939\n",
      "cat \t\t :  0.00000005871259389778060722164810\n",
      "dog \t\t :  0.00000000290148660653244405693840\n",
      "down \t\t :  0.00000014112384860709425993263721\n",
      "eight \t\t :  0.00036566416383720934391021728516\n",
      "five \t\t :  0.00000038511581124112126417458057\n",
      "four \t\t :  0.00000061518329630416701547801495\n",
      "go \t\t :  0.00000008863502642952880705706775\n",
      "happy \t\t :  0.00000575208514419500716030597687\n",
      "house \t\t :  0.00000003794618663732762797735631\n",
      "left \t\t :  0.00000000569476421574677260650788\n",
      "marvin \t\t :  0.00000000421983470388909154280555\n",
      "nine \t\t :  0.00000064400848032164503820240498\n",
      "no \t\t :  0.00000004158679800525533210020512\n",
      "off \t\t :  0.00000000928486354467850105720572\n",
      "on \t\t :  0.00000048196852731052786111831665\n",
      "one \t\t :  0.00000020494584873631538357585669\n",
      "right \t\t :  0.00000015767062677696230821311474\n",
      "seven \t\t :  0.00000011437367675171117298305035\n",
      "sheila \t\t :  0.00000493343759444542229175567627\n",
      "six \t\t :  0.00000677006664773216471076011658\n",
      "stop \t\t :  0.00000001732299814705129392677918\n",
      "three \t\t :  0.33390948176383972167968750000000\n",
      "tree \t\t :  0.66532605886459350585937500000000\n",
      "two \t\t :  0.00037204651744104921817779541016\n",
      "up \t\t :  0.00000000723701898408535271300934\n",
      "wow \t\t :  0.00000001297917773257495355210267\n",
      "yes \t\t :  0.00000000364859276125173437321791\n",
      "zero \t\t :  0.00000574769819650100544095039368\n"
     ]
    }
   ],
   "source": [
    " filename = os.path.join(dir_name, 'tree/07363607_nohash_0.wav')\n",
    "print_prediction(filename) "
   ]
  },
  {
   "cell_type": "markdown",
   "metadata": {},
   "source": [
    "### Recorded Samples"
   ]
  },
  {
   "cell_type": "code",
   "execution_count": 17,
   "metadata": {},
   "outputs": [
    {
     "name": "stdout",
     "output_type": "stream",
     "text": [
      "bed \t\t :  0.00000228116914513520896434783936\n",
      "bird \t\t :  0.00000020492534247296134708449244\n",
      "cat \t\t :  0.00000102521119060838827863335609\n",
      "dog \t\t :  0.00722104031592607498168945312500\n",
      "down \t\t :  0.01036341022700071334838867187500\n",
      "eight \t\t :  0.00000125785084037488559260964394\n",
      "five \t\t :  0.00000002493662876190683164168149\n",
      "four \t\t :  0.00000288039177576138172298669815\n",
      "go \t\t :  0.51891952753067016601562500000000\n",
      "happy \t\t :  0.00000010753013413022927124984562\n",
      "house \t\t :  0.00228480435907840728759765625000\n",
      "left \t\t :  0.00000020597867944616155000403523\n",
      "marvin \t\t :  0.00000003590669095387966081034392\n",
      "nine \t\t :  0.00002505920383555348962545394897\n",
      "no \t\t :  0.46082231402397155761718750000000\n",
      "off \t\t :  0.00000082731378370226593688130379\n",
      "on \t\t :  0.00000005855820361944097385276109\n",
      "one \t\t :  0.00000020324839056229393463581800\n",
      "right \t\t :  0.00000226357246901898179203271866\n",
      "seven \t\t :  0.00000008121880057387897977605462\n",
      "sheila \t\t :  0.00000200142449102713726460933685\n",
      "six \t\t :  0.00000000184636506084245866077254\n",
      "stop \t\t :  0.00010599857341730967164039611816\n",
      "three \t\t :  0.00000092442917321022832766175270\n",
      "tree \t\t :  0.00000033763544138309953268617392\n",
      "two \t\t :  0.00007830467802705243229866027832\n",
      "up \t\t :  0.00000083735335465462412685155869\n",
      "wow \t\t :  0.00001177551803266396746039390564\n",
      "yes \t\t :  0.00011718658060999587178230285645\n",
      "zero \t\t :  0.00003497356010484509170055389404\n"
     ]
    }
   ],
   "source": [
    "filename = os.path.join('../SelfRecordedSamples', 'meSayingNo.wav')\n",
    "print_prediction(filename) "
   ]
  },
  {
   "cell_type": "code",
   "execution_count": 18,
   "metadata": {},
   "outputs": [
    {
     "name": "stdout",
     "output_type": "stream",
     "text": [
      "bed \t\t :  0.95234715938568115234375000000000\n",
      "bird \t\t :  0.00552873499691486358642578125000\n",
      "cat \t\t :  0.00161573465447872877120971679688\n",
      "dog \t\t :  0.00029072977486066520214080810547\n",
      "down \t\t :  0.00002668317392817698419094085693\n",
      "eight \t\t :  0.00104765326250344514846801757812\n",
      "five \t\t :  0.00118114787619560956954956054688\n",
      "four \t\t :  0.00015520499437116086483001708984\n",
      "go \t\t :  0.00082924577873200178146362304688\n",
      "happy \t\t :  0.00013817072613164782524108886719\n",
      "house \t\t :  0.00001229287954629398882389068604\n",
      "left \t\t :  0.01319162547588348388671875000000\n",
      "marvin \t\t :  0.00006989528628764674067497253418\n",
      "nine \t\t :  0.00008669985982123762369155883789\n",
      "no \t\t :  0.00003600193667807616293430328369\n",
      "off \t\t :  0.00006781063711969181895256042480\n",
      "on \t\t :  0.00001730082476569805294275283813\n",
      "one \t\t :  0.00005304467777023091912269592285\n",
      "right \t\t :  0.00364817003719508647918701171875\n",
      "seven \t\t :  0.00658968603238463401794433593750\n",
      "sheila \t\t :  0.00004432911009644158184528350830\n",
      "six \t\t :  0.01179959531873464584350585937500\n",
      "stop \t\t :  0.00007114739128155633807182312012\n",
      "three \t\t :  0.00008536335371900349855422973633\n",
      "tree \t\t :  0.00002415120252408087253570556641\n",
      "two \t\t :  0.00001844654798333067446947097778\n",
      "up \t\t :  0.00048146271728910505771636962891\n",
      "wow \t\t :  0.00000705713409843156114220619202\n",
      "yes \t\t :  0.00049962225602939724922180175781\n",
      "zero \t\t :  0.00003592250868678092956542968750\n"
     ]
    }
   ],
   "source": [
    "filename = os.path.join('../SelfRecordedSamples', 'bSayingBed.wav')\n",
    "print_prediction(filename) "
   ]
  },
  {
   "cell_type": "markdown",
   "metadata": {},
   "source": [
    "## Finished \n",
    "\n",
    "Great job! If you made it this far you should have nearly 90% accuracy on both the training and validation data. Feel free to play around with individual and check the classification for files from the testset individually."
   ]
  },
  {
   "cell_type": "code",
   "execution_count": null,
   "metadata": {},
   "outputs": [],
   "source": []
  }
 ],
 "metadata": {
  "kernelspec": {
   "display_name": "Python 3",
   "language": "python",
   "name": "python3"
  },
  "language_info": {
   "codemirror_mode": {
    "name": "ipython",
    "version": 3
   },
   "file_extension": ".py",
   "mimetype": "text/x-python",
   "name": "python",
   "nbconvert_exporter": "python",
   "pygments_lexer": "ipython3",
   "version": "3.6.9"
  }
 },
 "nbformat": 4,
 "nbformat_minor": 2
}
