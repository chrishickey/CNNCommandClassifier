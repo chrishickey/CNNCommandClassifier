{
 "cells": [
  {
   "cell_type": "markdown",
   "metadata": {},
   "source": [
    "# Classifying Google Voice Commands Using CNN\n",
    "\n",
    "### Model Training and Evaluation "
   ]
  },
  {
   "cell_type": "markdown",
   "metadata": {},
   "source": [
    "### Load Preprocessed data "
   ]
  },
  {
   "cell_type": "code",
   "execution_count": 1,
   "metadata": {},
   "outputs": [],
   "source": [
    "# Retrieve the preprocessed data from the files you created in the last notebook \n",
    "# (Please complete the previous notebook first!!)\n",
    "import os\n",
    "import numpy as np\n",
    "from random import shuffle\n",
    "\n",
    "np.random.seed(1)\n",
    "# SET THIS TO THE DIRECTORY WHERE YOU CREATED THE PREPROCESSED FILES IN THE LAST NOTEBOOK !\n",
    "preprocessed_dir = '../Preproc'\n",
    "dir_name = '../googleData'\n",
    "train_path = os.path.join(preprocessed_dir, 'train')\n",
    "test_path = os.path.join(preprocessed_dir, 'test')\n",
    "class_names = sorted(os.listdir(train_path))"
   ]
  },
  {
   "cell_type": "markdown",
   "metadata": {},
   "source": [
    "Now lets make a function for loading all our preprocessed data."
   ]
  },
  {
   "cell_type": "code",
   "execution_count": 2,
   "metadata": {},
   "outputs": [],
   "source": [
    "def load_data(data_dir):\n",
    "    class_names = sorted(os.listdir(data_dir))\n",
    "    nb_classes = len(class_names)\n",
    "    print(\"class_names = \",class_names)\n",
    "\n",
    "    for (dirpath, dirnames, filenames) in os.walk(os.path.join(data_dir, class_names[0])):\n",
    "        with np.load(os.path.join(data_dir, class_names[0], filenames[0])) as sample_file:\n",
    "            mel_dims = sample_file['melgram'].shape\n",
    "\n",
    "    total_load = 0\n",
    "    for classname in class_names:\n",
    "        files = os.listdir(os.path.join(data_dir, classname))\n",
    "        n_files = len(files)\n",
    "        total_load += n_files\n",
    "\n",
    "    X = np.zeros((total_load, mel_dims[1], mel_dims[2], mel_dims[3]))\n",
    "    Y = np.zeros((total_load, nb_classes))\n",
    "    paths = []\n",
    "\n",
    "    load_count = 0\n",
    "    num_classes = len(class_names)\n",
    "    label_smoothing = 0.005\n",
    "\n",
    "    for idx, classname in enumerate(class_names):\n",
    "        # Vector smoothing means that some allowance is made for classes where the the files \n",
    "        idx = class_names.index(classname)\n",
    "        vec = np.zeros(num_classes)\n",
    "        vec[idx] = 1\n",
    "        vec = vec * (1 - label_smoothing) + label_smoothing / num_classes\n",
    "\n",
    "        this_Y = np.array(vec)\n",
    "        this_Y = this_Y[np.newaxis,:]\n",
    "        file_list = os.listdir(os.path.join(data_dir, classname))\n",
    "        shuffle(file_list)  # just to remove any special ordering\n",
    "\n",
    "        for _, infilename in enumerate(file_list):   # Load files in a particular class\n",
    "            audio_path = os.path.join(data_dir, classname, infilename)\n",
    "            with np.load(audio_path) as data:\n",
    "                melgram = data['melgram']\n",
    "            if melgram.shape != mel_dims:\n",
    "                raise Exception('Dimension mismatch {} vs {}'.format(melgram.shape, mel_dims))\n",
    "\n",
    "            # usually it's the 2nd dimension of melgram.shape that is affected by audio file length\n",
    "            X[load_count,:,:] = melgram[:,:,:]\n",
    "            #X[load_count,:,:] = melgram\n",
    "            Y[load_count,:] = this_Y\n",
    "            paths.append(audio_path)\n",
    "            load_count += 1\n",
    "        print('Successfully processed {} files for class {}'\n",
    "              .format(len(file_list), classname))\n",
    "\n",
    "\n",
    "\n",
    "    assert (X.shape[0] == Y.shape[0] )\n",
    "    # Shuffle the classes up \n",
    "    idx = np.array(range(Y.shape[0]))\n",
    "    np.random.shuffle(idx)\n",
    "    newX = np.copy(X)\n",
    "    newY = np.copy(Y)\n",
    "    for i in range(len(idx)):\n",
    "        newX[i] = X[idx[i],:,:]\n",
    "        newY[i] = Y[idx[i],:]\n",
    "\n",
    "    return newX, newY"
   ]
  },
  {
   "cell_type": "markdown",
   "metadata": {},
   "source": [
    "Next let's load both the training and test data."
   ]
  },
  {
   "cell_type": "code",
   "execution_count": 3,
   "metadata": {},
   "outputs": [
    {
     "name": "stdout",
     "output_type": "stream",
     "text": [
      "class_names =  ['bed', 'bird', 'cat', 'dog', 'down', 'eight', 'five', 'four', 'go', 'happy', 'house', 'left', 'marvin', 'nine', 'no', 'off', 'on', 'one', 'right', 'seven', 'sheila', 'six', 'stop', 'three', 'tree', 'two', 'up', 'wow', 'yes', 'zero']\n",
      "Successfully processed 1456 files for class bed\n",
      "Successfully processed 1471 files for class bird\n",
      "Successfully processed 1473 files for class cat\n",
      "Successfully processed 1484 files for class dog\n",
      "Successfully processed 2005 files for class down\n",
      "Successfully processed 1999 files for class eight\n",
      "Successfully processed 2003 files for class five\n",
      "Successfully processed 2016 files for class four\n",
      "Successfully processed 2016 files for class go\n",
      "Successfully processed 1480 files for class happy\n",
      "Successfully processed 1487 files for class house\n",
      "Successfully processed 2000 files for class left\n",
      "Successfully processed 1484 files for class marvin\n",
      "Successfully processed 2009 files for class nine\n",
      "Successfully processed 2018 files for class no\n",
      "Successfully processed 2003 files for class off\n",
      "Successfully processed 2011 files for class on\n",
      "Successfully processed 2014 files for class one\n",
      "Successfully processed 2011 files for class right\n",
      "Successfully processed 2020 files for class seven\n",
      "Successfully processed 1473 files for class sheila\n",
      "Successfully processed 2013 files for class six\n",
      "Successfully processed 2023 files for class stop\n",
      "Successfully processed 2002 files for class three\n",
      "Successfully processed 1473 files for class tree\n",
      "Successfully processed 2017 files for class two\n",
      "Successfully processed 2018 files for class up\n",
      "Successfully processed 1483 files for class wow\n",
      "Successfully processed 2020 files for class yes\n",
      "Successfully processed 2019 files for class zero\n",
      "class_names =  ['bed', 'bird', 'cat', 'dog', 'down', 'eight', 'five', 'four', 'go', 'happy', 'house', 'left', 'marvin', 'nine', 'no', 'off', 'on', 'one', 'right', 'seven', 'sheila', 'six', 'stop', 'three', 'tree', 'two', 'up', 'wow', 'yes', 'zero']\n",
      "Successfully processed 257 files for class bed\n",
      "Successfully processed 260 files for class bird\n",
      "Successfully processed 260 files for class cat\n",
      "Successfully processed 262 files for class dog\n",
      "Successfully processed 354 files for class down\n",
      "Successfully processed 353 files for class eight\n",
      "Successfully processed 354 files for class five\n",
      "Successfully processed 356 files for class four\n",
      "Successfully processed 356 files for class go\n",
      "Successfully processed 262 files for class happy\n",
      "Successfully processed 263 files for class house\n",
      "Successfully processed 353 files for class left\n",
      "Successfully processed 262 files for class marvin\n",
      "Successfully processed 355 files for class nine\n",
      "Successfully processed 357 files for class no\n",
      "Successfully processed 354 files for class off\n",
      "Successfully processed 356 files for class on\n",
      "Successfully processed 356 files for class one\n",
      "Successfully processed 356 files for class right\n",
      "Successfully processed 357 files for class seven\n",
      "Successfully processed 261 files for class sheila\n",
      "Successfully processed 356 files for class six\n",
      "Successfully processed 357 files for class stop\n",
      "Successfully processed 354 files for class three\n",
      "Successfully processed 260 files for class tree\n",
      "Successfully processed 356 files for class two\n",
      "Successfully processed 357 files for class up\n",
      "Successfully processed 262 files for class wow\n",
      "Successfully processed 357 files for class yes\n",
      "Successfully processed 357 files for class zero\n"
     ]
    }
   ],
   "source": [
    "\n",
    "X_train, Y_train = load_data(train_path)\n",
    "X_test, Y_test = load_data(test_path)"
   ]
  },
  {
   "cell_type": "markdown",
   "metadata": {},
   "source": [
    "### Initial model architecture - CNN\n",
    "\n",
    "#### Describe archtecture here !!"
   ]
  },
  {
   "cell_type": "code",
   "execution_count": 4,
   "metadata": {},
   "outputs": [
    {
     "name": "stderr",
     "output_type": "stream",
     "text": [
      "Using TensorFlow backend.\n"
     ]
    },
    {
     "name": "stdout",
     "output_type": "stream",
     "text": [
      " CNN: X_shape =  (55001, 96, 87, 1) , channels =  1\n",
      "WARNING:tensorflow:Large dropout rate: 0.6 (>0.5). In TensorFlow 2.x, dropout() uses dropout rate instead of keep_prob. Please ensure that this is intended.\n"
     ]
    }
   ],
   "source": [
    "from keras import backend as K\n",
    "from keras.models import Sequential,  load_model, save_model\n",
    "from keras.layers import Input, Dense, Dropout, Activation\n",
    "from keras.layers import Convolution2D, MaxPooling2D, Flatten, Conv2D\n",
    "from keras.layers.normalization import BatchNormalization\n",
    "\n",
    "nb_layers=4\n",
    "K.set_image_data_format('channels_last')                   \n",
    "nb_filters = 32  # number of convolutional filters\n",
    "kernel_size = (3, 3)  # convolution kernel size\n",
    "pool_size = (2, 2)  # size of pooling area for max pooling\n",
    "cl_dropout = 0.5    # conv. layer \n",
    "dl_dropout = 0.6    # dense layer \n",
    "X_shape = X_train.shape\n",
    "\n",
    "print(\" CNN: X_shape = \",X_shape,\", channels = \",X_shape[3])\n",
    "input_shape = (X_shape[1], X_shape[2], X_shape[3])\n",
    "model = Sequential()\n",
    "model.add(Conv2D(nb_filters, kernel_size, padding='same', input_shape=input_shape, name=\"Input\"))\n",
    "model.add(MaxPooling2D(pool_size=pool_size))\n",
    "model.add(Activation('relu'))      \n",
    "model.add(BatchNormalization(axis=-1)) \n",
    "\n",
    "for layer in range(nb_layers-1):   # add more layers than just the first\n",
    "    model.add(Conv2D(nb_filters, kernel_size, padding='same'))\n",
    "    model.add(MaxPooling2D(pool_size=pool_size))\n",
    "    model.add(Activation('elu'))\n",
    "    model.add(Dropout(cl_dropout))\n",
    "\n",
    "model.add(Flatten())\n",
    "model.add(Dense(128))   # 128 is 'arbitrary' for now\n",
    "model.add(Activation('elu'))\n",
    "model.add(Dropout(dl_dropout))\n",
    "model.add(Dense(len(class_names)))\n",
    "model.add(Activation(\"softmax\",name=\"Output\"))\n",
    "\n"
   ]
  },
  {
   "cell_type": "markdown",
   "metadata": {},
   "source": [
    "### Compiling the model \n",
    "\n",
    "Next compile the model\n"
   ]
  },
  {
   "cell_type": "code",
   "execution_count": 5,
   "metadata": {},
   "outputs": [
    {
     "name": "stdout",
     "output_type": "stream",
     "text": [
      "Model: \"sequential_1\"\n",
      "_________________________________________________________________\n",
      "Layer (type)                 Output Shape              Param #   \n",
      "=================================================================\n",
      "Input (Conv2D)               (None, 96, 87, 32)        320       \n",
      "_________________________________________________________________\n",
      "max_pooling2d_1 (MaxPooling2 (None, 48, 43, 32)        0         \n",
      "_________________________________________________________________\n",
      "activation_1 (Activation)    (None, 48, 43, 32)        0         \n",
      "_________________________________________________________________\n",
      "batch_normalization_1 (Batch (None, 48, 43, 32)        128       \n",
      "_________________________________________________________________\n",
      "conv2d_1 (Conv2D)            (None, 48, 43, 32)        9248      \n",
      "_________________________________________________________________\n",
      "max_pooling2d_2 (MaxPooling2 (None, 24, 21, 32)        0         \n",
      "_________________________________________________________________\n",
      "activation_2 (Activation)    (None, 24, 21, 32)        0         \n",
      "_________________________________________________________________\n",
      "dropout_1 (Dropout)          (None, 24, 21, 32)        0         \n",
      "_________________________________________________________________\n",
      "conv2d_2 (Conv2D)            (None, 24, 21, 32)        9248      \n",
      "_________________________________________________________________\n",
      "max_pooling2d_3 (MaxPooling2 (None, 12, 10, 32)        0         \n",
      "_________________________________________________________________\n",
      "activation_3 (Activation)    (None, 12, 10, 32)        0         \n",
      "_________________________________________________________________\n",
      "dropout_2 (Dropout)          (None, 12, 10, 32)        0         \n",
      "_________________________________________________________________\n",
      "conv2d_3 (Conv2D)            (None, 12, 10, 32)        9248      \n",
      "_________________________________________________________________\n",
      "max_pooling2d_4 (MaxPooling2 (None, 6, 5, 32)          0         \n",
      "_________________________________________________________________\n",
      "activation_4 (Activation)    (None, 6, 5, 32)          0         \n",
      "_________________________________________________________________\n",
      "dropout_3 (Dropout)          (None, 6, 5, 32)          0         \n",
      "_________________________________________________________________\n",
      "flatten_1 (Flatten)          (None, 960)               0         \n",
      "_________________________________________________________________\n",
      "dense_1 (Dense)              (None, 128)               123008    \n",
      "_________________________________________________________________\n",
      "activation_5 (Activation)    (None, 128)               0         \n",
      "_________________________________________________________________\n",
      "dropout_4 (Dropout)          (None, 128)               0         \n",
      "_________________________________________________________________\n",
      "dense_2 (Dense)              (None, 30)                3870      \n",
      "_________________________________________________________________\n",
      "Output (Activation)          (None, 30)                0         \n",
      "=================================================================\n",
      "Total params: 155,070\n",
      "Trainable params: 155,006\n",
      "Non-trainable params: 64\n",
      "_________________________________________________________________\n"
     ]
    }
   ],
   "source": [
    "# Compile the model\n",
    "model.compile(loss='categorical_crossentropy', optimizer='adadelta', metrics=['accuracy'])\n",
    "model.summary()"
   ]
  },
  {
   "cell_type": "markdown",
   "metadata": {},
   "source": [
    "#### Training the model\n",
    "Here let's train the model. Since the train/test split was set by default to .85/.15; here setting the train/val split to .8/.2 results in a train/val/test split of roughly .7/.15/.15"
   ]
  },
  {
   "cell_type": "code",
   "execution_count": 6,
   "metadata": {},
   "outputs": [
    {
     "name": "stdout",
     "output_type": "stream",
     "text": [
      "WARNING:tensorflow:Large dropout rate: 0.6 (>0.5). In TensorFlow 2.x, dropout() uses dropout rate instead of keep_prob. Please ensure that this is intended.\n",
      "Loading Weights from file weights.hdf5\n",
      "Train on 43999 samples, validate on 11001 samples\n",
      "Epoch 1/20\n",
      "43999/43999 [==============================] - 181s 4ms/step - loss: 1.0148 - accuracy: 0.7146 - val_loss: 0.4449 - val_accuracy: 0.8879\n",
      "\n",
      "Epoch 00001: val_loss improved from inf to 0.44494, saving model to weights.hdf5\n",
      "Epoch 2/20\n",
      " 2144/43999 [>.............................] - ETA: 2:50 - loss: 0.9787 - accuracy: 0.7253"
     ]
    },
    {
     "ename": "KeyboardInterrupt",
     "evalue": "",
     "output_type": "error",
     "traceback": [
      "\u001b[0;31m---------------------------------------------------------------------------\u001b[0m",
      "\u001b[0;31mKeyboardInterrupt\u001b[0m                         Traceback (most recent call last)",
      "\u001b[0;32m<ipython-input-6-a6658e2b9c7c>\u001b[0m in \u001b[0;36m<module>\u001b[0;34m\u001b[0m\n\u001b[1;32m     22\u001b[0m \u001b[0;34m\u001b[0m\u001b[0m\n\u001b[1;32m     23\u001b[0m model.fit(X_train_data, Y_train_data, batch_size=batch_size, epochs=epochs, shuffle=True,  callbacks=[checkpointer],\n\u001b[0;32m---> 24\u001b[0;31m               verbose=1, validation_data=(X_val_data, Y_val_data))\n\u001b[0m\u001b[1;32m     25\u001b[0m \u001b[0;34m\u001b[0m\u001b[0m\n",
      "\u001b[0;32m~/workspace/Udacity-ML-Capstone/venv/lib/python3.5/site-packages/keras/engine/training.py\u001b[0m in \u001b[0;36mfit\u001b[0;34m(self, x, y, batch_size, epochs, verbose, callbacks, validation_split, validation_data, shuffle, class_weight, sample_weight, initial_epoch, steps_per_epoch, validation_steps, validation_freq, max_queue_size, workers, use_multiprocessing, **kwargs)\u001b[0m\n\u001b[1;32m   1237\u001b[0m                                         \u001b[0msteps_per_epoch\u001b[0m\u001b[0;34m=\u001b[0m\u001b[0msteps_per_epoch\u001b[0m\u001b[0;34m,\u001b[0m\u001b[0;34m\u001b[0m\u001b[0m\n\u001b[1;32m   1238\u001b[0m                                         \u001b[0mvalidation_steps\u001b[0m\u001b[0;34m=\u001b[0m\u001b[0mvalidation_steps\u001b[0m\u001b[0;34m,\u001b[0m\u001b[0;34m\u001b[0m\u001b[0m\n\u001b[0;32m-> 1239\u001b[0;31m                                         validation_freq=validation_freq)\n\u001b[0m\u001b[1;32m   1240\u001b[0m \u001b[0;34m\u001b[0m\u001b[0m\n\u001b[1;32m   1241\u001b[0m     def evaluate(self,\n",
      "\u001b[0;32m~/workspace/Udacity-ML-Capstone/venv/lib/python3.5/site-packages/keras/engine/training_arrays.py\u001b[0m in \u001b[0;36mfit_loop\u001b[0;34m(model, fit_function, fit_inputs, out_labels, batch_size, epochs, verbose, callbacks, val_function, val_inputs, shuffle, initial_epoch, steps_per_epoch, validation_steps, validation_freq)\u001b[0m\n\u001b[1;32m    194\u001b[0m                     \u001b[0mins_batch\u001b[0m\u001b[0;34m[\u001b[0m\u001b[0mi\u001b[0m\u001b[0;34m]\u001b[0m \u001b[0;34m=\u001b[0m \u001b[0mins_batch\u001b[0m\u001b[0;34m[\u001b[0m\u001b[0mi\u001b[0m\u001b[0;34m]\u001b[0m\u001b[0;34m.\u001b[0m\u001b[0mtoarray\u001b[0m\u001b[0;34m(\u001b[0m\u001b[0;34m)\u001b[0m\u001b[0;34m\u001b[0m\u001b[0m\n\u001b[1;32m    195\u001b[0m \u001b[0;34m\u001b[0m\u001b[0m\n\u001b[0;32m--> 196\u001b[0;31m                 \u001b[0mouts\u001b[0m \u001b[0;34m=\u001b[0m \u001b[0mfit_function\u001b[0m\u001b[0;34m(\u001b[0m\u001b[0mins_batch\u001b[0m\u001b[0;34m)\u001b[0m\u001b[0;34m\u001b[0m\u001b[0m\n\u001b[0m\u001b[1;32m    197\u001b[0m                 \u001b[0mouts\u001b[0m \u001b[0;34m=\u001b[0m \u001b[0mto_list\u001b[0m\u001b[0;34m(\u001b[0m\u001b[0mouts\u001b[0m\u001b[0;34m)\u001b[0m\u001b[0;34m\u001b[0m\u001b[0m\n\u001b[1;32m    198\u001b[0m                 \u001b[0;32mfor\u001b[0m \u001b[0ml\u001b[0m\u001b[0;34m,\u001b[0m \u001b[0mo\u001b[0m \u001b[0;32min\u001b[0m \u001b[0mzip\u001b[0m\u001b[0;34m(\u001b[0m\u001b[0mout_labels\u001b[0m\u001b[0;34m,\u001b[0m \u001b[0mouts\u001b[0m\u001b[0;34m)\u001b[0m\u001b[0;34m:\u001b[0m\u001b[0;34m\u001b[0m\u001b[0m\n",
      "\u001b[0;32m~/workspace/Udacity-ML-Capstone/venv/lib/python3.5/site-packages/tensorflow_core/python/keras/backend.py\u001b[0m in \u001b[0;36m__call__\u001b[0;34m(self, inputs)\u001b[0m\n\u001b[1;32m   3738\u001b[0m         \u001b[0mvalue\u001b[0m \u001b[0;34m=\u001b[0m \u001b[0mmath_ops\u001b[0m\u001b[0;34m.\u001b[0m\u001b[0mcast\u001b[0m\u001b[0;34m(\u001b[0m\u001b[0mvalue\u001b[0m\u001b[0;34m,\u001b[0m \u001b[0mtensor\u001b[0m\u001b[0;34m.\u001b[0m\u001b[0mdtype\u001b[0m\u001b[0;34m)\u001b[0m\u001b[0;34m\u001b[0m\u001b[0m\n\u001b[1;32m   3739\u001b[0m       \u001b[0mconverted_inputs\u001b[0m\u001b[0;34m.\u001b[0m\u001b[0mappend\u001b[0m\u001b[0;34m(\u001b[0m\u001b[0mvalue\u001b[0m\u001b[0;34m)\u001b[0m\u001b[0;34m\u001b[0m\u001b[0m\n\u001b[0;32m-> 3740\u001b[0;31m     \u001b[0moutputs\u001b[0m \u001b[0;34m=\u001b[0m \u001b[0mself\u001b[0m\u001b[0;34m.\u001b[0m\u001b[0m_graph_fn\u001b[0m\u001b[0;34m(\u001b[0m\u001b[0;34m*\u001b[0m\u001b[0mconverted_inputs\u001b[0m\u001b[0;34m)\u001b[0m\u001b[0;34m\u001b[0m\u001b[0m\n\u001b[0m\u001b[1;32m   3741\u001b[0m \u001b[0;34m\u001b[0m\u001b[0m\n\u001b[1;32m   3742\u001b[0m     \u001b[0;31m# EagerTensor.numpy() will often make a copy to ensure memory safety.\u001b[0m\u001b[0;34m\u001b[0m\u001b[0;34m\u001b[0m\u001b[0m\n",
      "\u001b[0;32m~/workspace/Udacity-ML-Capstone/venv/lib/python3.5/site-packages/tensorflow_core/python/eager/function.py\u001b[0m in \u001b[0;36m__call__\u001b[0;34m(self, *args, **kwargs)\u001b[0m\n\u001b[1;32m   1079\u001b[0m       \u001b[0mTypeError\u001b[0m\u001b[0;34m:\u001b[0m \u001b[0mFor\u001b[0m \u001b[0minvalid\u001b[0m \u001b[0mpositional\u001b[0m\u001b[0;34m/\u001b[0m\u001b[0mkeyword\u001b[0m \u001b[0margument\u001b[0m \u001b[0mcombinations\u001b[0m\u001b[0;34m.\u001b[0m\u001b[0;34m\u001b[0m\u001b[0m\n\u001b[1;32m   1080\u001b[0m     \"\"\"\n\u001b[0;32m-> 1081\u001b[0;31m     \u001b[0;32mreturn\u001b[0m \u001b[0mself\u001b[0m\u001b[0;34m.\u001b[0m\u001b[0m_call_impl\u001b[0m\u001b[0;34m(\u001b[0m\u001b[0margs\u001b[0m\u001b[0;34m,\u001b[0m \u001b[0mkwargs\u001b[0m\u001b[0;34m)\u001b[0m\u001b[0;34m\u001b[0m\u001b[0m\n\u001b[0m\u001b[1;32m   1082\u001b[0m \u001b[0;34m\u001b[0m\u001b[0m\n\u001b[1;32m   1083\u001b[0m   \u001b[0;32mdef\u001b[0m \u001b[0m_call_impl\u001b[0m\u001b[0;34m(\u001b[0m\u001b[0mself\u001b[0m\u001b[0;34m,\u001b[0m \u001b[0margs\u001b[0m\u001b[0;34m,\u001b[0m \u001b[0mkwargs\u001b[0m\u001b[0;34m,\u001b[0m \u001b[0mcancellation_manager\u001b[0m\u001b[0;34m=\u001b[0m\u001b[0;32mNone\u001b[0m\u001b[0;34m)\u001b[0m\u001b[0;34m:\u001b[0m\u001b[0;34m\u001b[0m\u001b[0m\n",
      "\u001b[0;32m~/workspace/Udacity-ML-Capstone/venv/lib/python3.5/site-packages/tensorflow_core/python/eager/function.py\u001b[0m in \u001b[0;36m_call_impl\u001b[0;34m(self, args, kwargs, cancellation_manager)\u001b[0m\n\u001b[1;32m   1119\u001b[0m       raise TypeError(\"Keyword arguments {} unknown. Expected {}.\".format(\n\u001b[1;32m   1120\u001b[0m           list(kwargs.keys()), list(self._arg_keywords)))\n\u001b[0;32m-> 1121\u001b[0;31m     \u001b[0;32mreturn\u001b[0m \u001b[0mself\u001b[0m\u001b[0;34m.\u001b[0m\u001b[0m_call_flat\u001b[0m\u001b[0;34m(\u001b[0m\u001b[0margs\u001b[0m\u001b[0;34m,\u001b[0m \u001b[0mself\u001b[0m\u001b[0;34m.\u001b[0m\u001b[0mcaptured_inputs\u001b[0m\u001b[0;34m,\u001b[0m \u001b[0mcancellation_manager\u001b[0m\u001b[0;34m)\u001b[0m\u001b[0;34m\u001b[0m\u001b[0m\n\u001b[0m\u001b[1;32m   1122\u001b[0m \u001b[0;34m\u001b[0m\u001b[0m\n\u001b[1;32m   1123\u001b[0m   \u001b[0;32mdef\u001b[0m \u001b[0m_filtered_call\u001b[0m\u001b[0;34m(\u001b[0m\u001b[0mself\u001b[0m\u001b[0;34m,\u001b[0m \u001b[0margs\u001b[0m\u001b[0;34m,\u001b[0m \u001b[0mkwargs\u001b[0m\u001b[0;34m)\u001b[0m\u001b[0;34m:\u001b[0m\u001b[0;34m\u001b[0m\u001b[0m\n",
      "\u001b[0;32m~/workspace/Udacity-ML-Capstone/venv/lib/python3.5/site-packages/tensorflow_core/python/eager/function.py\u001b[0m in \u001b[0;36m_call_flat\u001b[0;34m(self, args, captured_inputs, cancellation_manager)\u001b[0m\n\u001b[1;32m   1222\u001b[0m     \u001b[0;32mif\u001b[0m \u001b[0mexecuting_eagerly\u001b[0m\u001b[0;34m:\u001b[0m\u001b[0;34m\u001b[0m\u001b[0m\n\u001b[1;32m   1223\u001b[0m       flat_outputs = forward_function.call(\n\u001b[0;32m-> 1224\u001b[0;31m           ctx, args, cancellation_manager=cancellation_manager)\n\u001b[0m\u001b[1;32m   1225\u001b[0m     \u001b[0;32melse\u001b[0m\u001b[0;34m:\u001b[0m\u001b[0;34m\u001b[0m\u001b[0m\n\u001b[1;32m   1226\u001b[0m       \u001b[0mgradient_name\u001b[0m \u001b[0;34m=\u001b[0m \u001b[0mself\u001b[0m\u001b[0;34m.\u001b[0m\u001b[0m_delayed_rewrite_functions\u001b[0m\u001b[0;34m.\u001b[0m\u001b[0mregister\u001b[0m\u001b[0;34m(\u001b[0m\u001b[0;34m)\u001b[0m\u001b[0;34m\u001b[0m\u001b[0m\n",
      "\u001b[0;32m~/workspace/Udacity-ML-Capstone/venv/lib/python3.5/site-packages/tensorflow_core/python/eager/function.py\u001b[0m in \u001b[0;36mcall\u001b[0;34m(self, ctx, args, cancellation_manager)\u001b[0m\n\u001b[1;32m    509\u001b[0m               \u001b[0minputs\u001b[0m\u001b[0;34m=\u001b[0m\u001b[0margs\u001b[0m\u001b[0;34m,\u001b[0m\u001b[0;34m\u001b[0m\u001b[0m\n\u001b[1;32m    510\u001b[0m               \u001b[0mattrs\u001b[0m\u001b[0;34m=\u001b[0m\u001b[0;34m(\u001b[0m\u001b[0;34m\"executor_type\"\u001b[0m\u001b[0;34m,\u001b[0m \u001b[0mexecutor_type\u001b[0m\u001b[0;34m,\u001b[0m \u001b[0;34m\"config_proto\"\u001b[0m\u001b[0;34m,\u001b[0m \u001b[0mconfig\u001b[0m\u001b[0;34m)\u001b[0m\u001b[0;34m,\u001b[0m\u001b[0;34m\u001b[0m\u001b[0m\n\u001b[0;32m--> 511\u001b[0;31m               ctx=ctx)\n\u001b[0m\u001b[1;32m    512\u001b[0m         \u001b[0;32melse\u001b[0m\u001b[0;34m:\u001b[0m\u001b[0;34m\u001b[0m\u001b[0m\n\u001b[1;32m    513\u001b[0m           outputs = execute.execute_with_cancellation(\n",
      "\u001b[0;32m~/workspace/Udacity-ML-Capstone/venv/lib/python3.5/site-packages/tensorflow_core/python/eager/execute.py\u001b[0m in \u001b[0;36mquick_execute\u001b[0;34m(op_name, num_outputs, inputs, attrs, ctx, name)\u001b[0m\n\u001b[1;32m     59\u001b[0m     tensors = pywrap_tensorflow.TFE_Py_Execute(ctx._handle, device_name,\n\u001b[1;32m     60\u001b[0m                                                \u001b[0mop_name\u001b[0m\u001b[0;34m,\u001b[0m \u001b[0minputs\u001b[0m\u001b[0;34m,\u001b[0m \u001b[0mattrs\u001b[0m\u001b[0;34m,\u001b[0m\u001b[0;34m\u001b[0m\u001b[0m\n\u001b[0;32m---> 61\u001b[0;31m                                                num_outputs)\n\u001b[0m\u001b[1;32m     62\u001b[0m   \u001b[0;32mexcept\u001b[0m \u001b[0mcore\u001b[0m\u001b[0;34m.\u001b[0m\u001b[0m_NotOkStatusException\u001b[0m \u001b[0;32mas\u001b[0m \u001b[0me\u001b[0m\u001b[0;34m:\u001b[0m\u001b[0;34m\u001b[0m\u001b[0m\n\u001b[1;32m     63\u001b[0m     \u001b[0;32mif\u001b[0m \u001b[0mname\u001b[0m \u001b[0;32mis\u001b[0m \u001b[0;32mnot\u001b[0m \u001b[0;32mNone\u001b[0m\u001b[0;34m:\u001b[0m\u001b[0;34m\u001b[0m\u001b[0m\n",
      "\u001b[0;31mKeyboardInterrupt\u001b[0m: "
     ]
    }
   ],
   "source": [
    "from keras.callbacks import ModelCheckpoint \n",
    "from keras.models import load_model\n",
    "\n",
    "# Display model architecture summary \n",
    "val_split = 0.2\n",
    "epochs = 20 # 100 (but since I have already trained the weights file I don't need to retrain.)\n",
    "# In order to retrain from scratch please delete the weights file and set the epochs to between 20 - 100\n",
    "batch_size = 32\n",
    "\n",
    "split_index = int(X_train.shape[0]*(1-val_split))\n",
    "X_val_data, Y_val_data = X_train[split_index:], Y_train[split_index:]\n",
    "X_train_data, Y_train_data = X_train[:split_index-1], Y_train[:split_index-1]\n",
    "weights_file='weights.hdf5'\n",
    "\n",
    "if os.path.isfile(weights_file):\n",
    "    loaded_model = load_model(weights_file)   # strip any previous parallel part, to be added back in later\n",
    "    model.set_weights( loaded_model.get_weights() )  \n",
    "    print('Loading Weights from file {}'.format(weights_file))\n",
    "\n",
    "checkpointer = ModelCheckpoint(filepath=weights_file, \n",
    "                               verbose=1, save_best_only=True)\n",
    "\n",
    "model.fit(X_train_data, Y_train_data, batch_size=batch_size, epochs=epochs, shuffle=True,  callbacks=[checkpointer],\n",
    "              verbose=1, validation_data=(X_val_data, Y_val_data))\n",
    "\n"
   ]
  },
  {
   "cell_type": "markdown",
   "metadata": {},
   "source": [
    "### Test the model \n",
    "\n",
    "Here we will review the accuracy of the model on both the training and test data sets (here the training data is a compination of both the Train + Val sets). "
   ]
  },
  {
   "cell_type": "code",
   "execution_count": 7,
   "metadata": {},
   "outputs": [
    {
     "name": "stdout",
     "output_type": "stream",
     "text": [
      "Training Accuracy:  0.8836566805839539\n",
      "Testing Accuracy:  0.8798353672027588\n"
     ]
    }
   ],
   "source": [
    "# Evaluating the model on the training and testing set\n",
    "score = model.evaluate(X_train, Y_train, verbose=0)\n",
    "print(\"Training Accuracy: \", score[1])\n",
    "\n",
    "score = model.evaluate(X_test, Y_test, verbose=0)\n",
    "print(\"Testing Accuracy: \", score[1])"
   ]
  },
  {
   "cell_type": "markdown",
   "metadata": {},
   "source": [
    "Both training and test scores are quite high, suggesting the model has not overfit as there is little difference between the training and test models"
   ]
  },
  {
   "cell_type": "markdown",
   "metadata": {},
   "source": [
    "### Predictions  \n",
    "\n",
    "Lets look closer as to what the model predicts, first set the labels"
   ]
  },
  {
   "cell_type": "code",
   "execution_count": 8,
   "metadata": {},
   "outputs": [],
   "source": [
    "from sklearn.preprocessing import LabelEncoder\n",
    "from keras.utils import to_categorical\n",
    "\n",
    "# Convert features and corresponding classification labels into numpy arrays\n",
    "y = np.array(class_names)\n",
    "\n",
    "# Encode the classification labels\n",
    "le = LabelEncoder()\n",
    "yy = to_categorical(le.fit_transform(y)) "
   ]
  },
  {
   "cell_type": "markdown",
   "metadata": {},
   "source": [
    "Make a function for creating mel spectrograms from wav files"
   ]
  },
  {
   "cell_type": "code",
   "execution_count": 13,
   "metadata": {},
   "outputs": [],
   "source": [
    "import librosa \n",
    "import numpy as np \n",
    "\n",
    "def extract_melgram(file_name):\n",
    "    signal, sr = librosa.load(file_name, mono=False, sr=44100)\n",
    "    if len(signal.shape) == 1:\n",
    "        signal = np.reshape(signal, (1, signal.shape[0]))\n",
    "    \n",
    "    # Make sure all files have the same amount of data by padding empty space with 0\n",
    "    shape = signal.shape\n",
    "    max_shape = (1, sr) # Sample Rate is max_shape\n",
    "    padded_signal = np.zeros(max_shape)     \n",
    "    use_shape = list(max_shape[:])\n",
    "    use_shape[0] = min( shape[0], max_shape[0] )\n",
    "    use_shape[1] = min( shape[1], max_shape[1] )\n",
    "\n",
    "    padded_signal[:use_shape[0], :use_shape[1]] = signal[:use_shape[0], :use_shape[1]]\n",
    "    melgram = librosa.amplitude_to_db(librosa.feature.melspectrogram(padded_signal[0], sr=sr, n_mels=96))[np.newaxis,:,:,np.newaxis] \n",
    "    melgram = melgram.astype(np.float16)\n",
    "    return  melgram\n"
   ]
  },
  {
   "cell_type": "markdown",
   "metadata": {},
   "source": [
    "Make a function for predicting output from these wab files"
   ]
  },
  {
   "cell_type": "code",
   "execution_count": 14,
   "metadata": {},
   "outputs": [],
   "source": [
    "def print_prediction(file_name):\n",
    "    prediction_feature = extract_melgram(file_name) \n",
    "\n",
    "    predicted_vector = model.predict_classes(prediction_feature)\n",
    "    predicted_class = le.inverse_transform(predicted_vector) \n",
    "\n",
    "    predicted_proba_vector = model.predict_proba(prediction_feature) \n",
    "    predicted_proba = predicted_proba_vector[0]\n",
    "    for i in range(len(predicted_proba)): \n",
    "        category = le.inverse_transform(np.array([i]))\n",
    "        print(category[0], \"\\t\\t : \", format(predicted_proba[i], '.32f') )"
   ]
  },
  {
   "cell_type": "markdown",
   "metadata": {},
   "source": [
    "### Data exploration \n",
    "\n",
    "Now lets use these functions to examine presictions from the test dataset more closely"
   ]
  },
  {
   "cell_type": "code",
   "execution_count": 15,
   "metadata": {},
   "outputs": [
    {
     "name": "stdout",
     "output_type": "stream",
     "text": [
      "../SelfRecordedSamples/meSayingNo.wav\n",
      "bed \t\t :  0.00000367142297363898251205682755\n",
      "bird \t\t :  0.00000048087179038702743127942085\n",
      "cat \t\t :  0.00000482816722069401293992996216\n",
      "dog \t\t :  0.00122427463065832853317260742188\n",
      "down \t\t :  0.01652055419981479644775390625000\n",
      "eight \t\t :  0.00000081179507560591446235775948\n",
      "five \t\t :  0.00000018277056312854256248101592\n",
      "four \t\t :  0.00000564452693652128800749778748\n",
      "go \t\t :  0.25519409775733947753906250000000\n",
      "happy \t\t :  0.00000092673843710144865326583385\n",
      "house \t\t :  0.00955458171665668487548828125000\n",
      "left \t\t :  0.00000019943131235322653083130717\n",
      "marvin \t\t :  0.00000036611413634091150015592575\n",
      "nine \t\t :  0.00005833177783642895519733428955\n",
      "no \t\t :  0.71646213531494140625000000000000\n",
      "off \t\t :  0.00000238013512898760382086038589\n",
      "on \t\t :  0.00000051472653694872860796749592\n",
      "one \t\t :  0.00000170466284998838091269135475\n",
      "right \t\t :  0.00000508627226736280135810375214\n",
      "seven \t\t :  0.00000006986930856101025710813701\n",
      "sheila \t\t :  0.00000173931255176285048946738243\n",
      "six \t\t :  0.00000008183396005279064411297441\n",
      "stop \t\t :  0.00002575092366896569728851318359\n",
      "three \t\t :  0.00000208437018045515287667512894\n",
      "tree \t\t :  0.00000227901227844995446503162384\n",
      "two \t\t :  0.00009057931310962885618209838867\n",
      "up \t\t :  0.00000062469416661770083010196686\n",
      "wow \t\t :  0.00017070268222596496343612670898\n",
      "yes \t\t :  0.00049910019151866436004638671875\n",
      "zero \t\t :  0.00016613627667538821697235107422\n"
     ]
    }
   ],
   "source": [
    "filename = os.path.join(dir_name, 'no/692a88e6_nohash_3.wav')\n",
    "print_prediction(filename) "
   ]
  },
  {
   "cell_type": "code",
   "execution_count": 34,
   "metadata": {
    "scrolled": true
   },
   "outputs": [
    {
     "name": "stdout",
     "output_type": "stream",
     "text": [
      "bed \t\t :  0.00000000005373932202012987602302\n",
      "bird \t\t :  0.00000000016150072945642079957906\n",
      "cat \t\t :  0.00000000000003426013474110665979\n",
      "dog \t\t :  0.00000000000286886313316525587425\n",
      "down \t\t :  0.00000000000001943108997001005006\n",
      "eight \t\t :  0.00000000119927068276126647106139\n",
      "five \t\t :  0.00000014667800485312909586355090\n",
      "four \t\t :  0.00000000000474365208572025132128\n",
      "go \t\t :  0.00000000000629958368456029482729\n",
      "happy \t\t :  0.00000000000057845476455695155060\n",
      "house \t\t :  0.00000000034614636157392908444308\n",
      "left \t\t :  0.00000006975890443072785274125636\n",
      "marvin \t\t :  0.00000000016940375491270032171087\n",
      "nine \t\t :  0.00000012274681182589119998738170\n",
      "no \t\t :  0.00000000002718415076374824934646\n",
      "off \t\t :  0.00000000000013491657335600037992\n",
      "on \t\t :  0.00000000000101450738001357398943\n",
      "one \t\t :  0.00000028834296017521410249173641\n",
      "right \t\t :  0.99999737739562988281250000000000\n",
      "seven \t\t :  0.00000000000025691894358498279516\n",
      "sheila \t\t :  0.00000000000005280628365134099056\n",
      "six \t\t :  0.00000000825067303367177373729646\n",
      "stop \t\t :  0.00000000000001269838252018935798\n",
      "three \t\t :  0.00000197019608094706200063228607\n",
      "tree \t\t :  0.00000000271829336817575040186057\n",
      "two \t\t :  0.00000000000000017372378403411723\n",
      "up \t\t :  0.00000000000003687288240581190757\n",
      "wow \t\t :  0.00000000003305029513955837217054\n",
      "yes \t\t :  0.00000000022827964518690180284466\n",
      "zero \t\t :  0.00000000000318094942747260134297\n"
     ]
    }
   ],
   "source": [
    "filename = os.path.join(dir_name, 'right/3411cf4b_nohash_0.wav')\n",
    "print_prediction(filename) "
   ]
  },
  {
   "cell_type": "code",
   "execution_count": 35,
   "metadata": {},
   "outputs": [
    {
     "name": "stdout",
     "output_type": "stream",
     "text": [
      "bed \t\t :  0.00000000091373908439607021136908\n",
      "bird \t\t :  0.00000015808863906840997515246272\n",
      "cat \t\t :  0.00000000003889152194735956413751\n",
      "dog \t\t :  0.00000000011766207452801324961911\n",
      "down \t\t :  0.00000000045101211654241524229292\n",
      "eight \t\t :  0.00014037001528777182102203369141\n",
      "five \t\t :  0.00000026052680368593428283929825\n",
      "four \t\t :  0.00000009437886916430215933360159\n",
      "go \t\t :  0.00000000162623381427806634746958\n",
      "happy \t\t :  0.00000023225538825499825179576874\n",
      "house \t\t :  0.00000001037094410349936879356392\n",
      "left \t\t :  0.00000000011953595058233901227140\n",
      "marvin \t\t :  0.00000001342473687770961987553164\n",
      "nine \t\t :  0.00000135925870381470303982496262\n",
      "no \t\t :  0.00000000106144493194904043775750\n",
      "off \t\t :  0.00000000013119644259873552982754\n",
      "on \t\t :  0.00000017772620708456088323146105\n",
      "one \t\t :  0.00000031578147741129214409738779\n",
      "right \t\t :  0.00001458072165405610576272010803\n",
      "seven \t\t :  0.00000000266715938224137971701566\n",
      "sheila \t\t :  0.00000000899206220594805927248672\n",
      "six \t\t :  0.00000010286003515602715197019279\n",
      "stop \t\t :  0.00000000008390919903344951080726\n",
      "three \t\t :  0.98338967561721801757812500000000\n",
      "tree \t\t :  0.01645258627831935882568359375000\n",
      "two \t\t :  0.00000004344134652001230278983712\n",
      "up \t\t :  0.00000000008513471871918198985441\n",
      "wow \t\t :  0.00000000004768689262912850779230\n",
      "yes \t\t :  0.00000000024681201526988161276677\n",
      "zero \t\t :  0.00000001700876062216138961957768\n"
     ]
    }
   ],
   "source": [
    "filename = os.path.join(dir_name, 'three/38d78313_nohash_2.wav')\n",
    "print_prediction(filename) "
   ]
  },
  {
   "cell_type": "code",
   "execution_count": 36,
   "metadata": {
    "scrolled": true
   },
   "outputs": [
    {
     "name": "stdout",
     "output_type": "stream",
     "text": [
      "bed \t\t :  0.00000319975993079424370080232620\n",
      "bird \t\t :  0.00001930228609126061201095581055\n",
      "cat \t\t :  0.00000363687104254495352506637573\n",
      "dog \t\t :  0.00000006687793785431495052762330\n",
      "down \t\t :  0.00000070542705543630290776491165\n",
      "eight \t\t :  0.02149184606969356536865234375000\n",
      "five \t\t :  0.00000228441126637335401028394699\n",
      "four \t\t :  0.00000434840012530912645161151886\n",
      "go \t\t :  0.00000290086109089315868914127350\n",
      "happy \t\t :  0.00022248228196986019611358642578\n",
      "house \t\t :  0.00000334329320139659103006124496\n",
      "left \t\t :  0.00000002116596853340979578206316\n",
      "marvin \t\t :  0.00000271320914180250838398933411\n",
      "nine \t\t :  0.00002837108877429272979497909546\n",
      "no \t\t :  0.00000049340195573677192442119122\n",
      "off \t\t :  0.00000002857737158024065138306469\n",
      "on \t\t :  0.00000057358249705430353060364723\n",
      "one \t\t :  0.00000194963467947673052549362183\n",
      "right \t\t :  0.00000688392583469976671040058136\n",
      "seven \t\t :  0.00000217399565372033976018428802\n",
      "sheila \t\t :  0.00001421337947249412536621093750\n",
      "six \t\t :  0.00013790704542770981788635253906\n",
      "stop \t\t :  0.00000023290840545087121427059174\n",
      "three \t\t :  0.23245508968830108642578125000000\n",
      "tree \t\t :  0.74433314800262451171875000000000\n",
      "two \t\t :  0.00124954222701489925384521484375\n",
      "up \t\t :  0.00000007225356313256270368583500\n",
      "wow \t\t :  0.00000003395433623154531233012676\n",
      "yes \t\t :  0.00000172178749835438793525099754\n",
      "zero \t\t :  0.00001070161943061975762248039246\n"
     ]
    }
   ],
   "source": [
    " filename = os.path.join(dir_name, 'tree/07363607_nohash_0.wav')\n",
    "print_prediction(filename) "
   ]
  },
  {
   "cell_type": "markdown",
   "metadata": {},
   "source": [
    "### Recorded Samples"
   ]
  },
  {
   "cell_type": "code",
   "execution_count": 16,
   "metadata": {},
   "outputs": [
    {
     "name": "stdout",
     "output_type": "stream",
     "text": [
      "bed \t\t :  0.00000367142297363898251205682755\n",
      "bird \t\t :  0.00000048087179038702743127942085\n",
      "cat \t\t :  0.00000482816722069401293992996216\n",
      "dog \t\t :  0.00122427463065832853317260742188\n",
      "down \t\t :  0.01652055419981479644775390625000\n",
      "eight \t\t :  0.00000081179507560591446235775948\n",
      "five \t\t :  0.00000018277056312854256248101592\n",
      "four \t\t :  0.00000564452693652128800749778748\n",
      "go \t\t :  0.25519409775733947753906250000000\n",
      "happy \t\t :  0.00000092673843710144865326583385\n",
      "house \t\t :  0.00955458171665668487548828125000\n",
      "left \t\t :  0.00000019943131235322653083130717\n",
      "marvin \t\t :  0.00000036611413634091150015592575\n",
      "nine \t\t :  0.00005833177783642895519733428955\n",
      "no \t\t :  0.71646213531494140625000000000000\n",
      "off \t\t :  0.00000238013512898760382086038589\n",
      "on \t\t :  0.00000051472653694872860796749592\n",
      "one \t\t :  0.00000170466284998838091269135475\n",
      "right \t\t :  0.00000508627226736280135810375214\n",
      "seven \t\t :  0.00000006986930856101025710813701\n",
      "sheila \t\t :  0.00000173931255176285048946738243\n",
      "six \t\t :  0.00000008183396005279064411297441\n",
      "stop \t\t :  0.00002575092366896569728851318359\n",
      "three \t\t :  0.00000208437018045515287667512894\n",
      "tree \t\t :  0.00000227901227844995446503162384\n",
      "two \t\t :  0.00009057931310962885618209838867\n",
      "up \t\t :  0.00000062469416661770083010196686\n",
      "wow \t\t :  0.00017070268222596496343612670898\n",
      "yes \t\t :  0.00049910019151866436004638671875\n",
      "zero \t\t :  0.00016613627667538821697235107422\n"
     ]
    }
   ],
   "source": [
    "filename = os.path.join('../SelfRecordedSamples', 'meSayingNo.wav')\n",
    "print_prediction(filename) "
   ]
  },
  {
   "cell_type": "code",
   "execution_count": 17,
   "metadata": {},
   "outputs": [
    {
     "name": "stdout",
     "output_type": "stream",
     "text": [
      "bed \t\t :  0.92905443906784057617187500000000\n",
      "bird \t\t :  0.00454120337963104248046875000000\n",
      "cat \t\t :  0.00451311888173222541809082031250\n",
      "dog \t\t :  0.00012520237942226231098175048828\n",
      "down \t\t :  0.00004247670949553139507770538330\n",
      "eight \t\t :  0.00183523714076727628707885742188\n",
      "five \t\t :  0.00061280350200831890106201171875\n",
      "four \t\t :  0.00031069351825863122940063476562\n",
      "go \t\t :  0.00059192173648625612258911132812\n",
      "happy \t\t :  0.00010272225335938856005668640137\n",
      "house \t\t :  0.00000857686245581135153770446777\n",
      "left \t\t :  0.02143187820911407470703125000000\n",
      "marvin \t\t :  0.00001673519000178202986717224121\n",
      "nine \t\t :  0.00006890791701152920722961425781\n",
      "no \t\t :  0.00001123364290833706036210060120\n",
      "off \t\t :  0.00008972557407105341553688049316\n",
      "on \t\t :  0.00000754499751565163023769855499\n",
      "one \t\t :  0.00003640544309746474027633666992\n",
      "right \t\t :  0.00330364750698208808898925781250\n",
      "seven \t\t :  0.00482033938169479370117187500000\n",
      "sheila \t\t :  0.00001992248871829360723495483398\n",
      "six \t\t :  0.02678133174777030944824218750000\n",
      "stop \t\t :  0.00010165775893256068229675292969\n",
      "three \t\t :  0.00008424172119703143835067749023\n",
      "tree \t\t :  0.00001872049870144110172986984253\n",
      "two \t\t :  0.00000877954516909085214138031006\n",
      "up \t\t :  0.00058386911405250430107116699219\n",
      "wow \t\t :  0.00001206019442179240286350250244\n",
      "yes \t\t :  0.00084547285223379731178283691406\n",
      "zero \t\t :  0.00001907991645566653460264205933\n"
     ]
    }
   ],
   "source": [
    "filename = os.path.join('../SelfRecordedSamples', 'bSayingBed.wav')\n",
    "print_prediction(filename) "
   ]
  },
  {
   "cell_type": "markdown",
   "metadata": {},
   "source": [
    "## Finished \n",
    "\n",
    "Great job! If you made it this far you should have nearly 90% accuracy on both the training and validation data. Feel free to play around with individual and check the classification for files from the testset individually."
   ]
  }
 ],
 "metadata": {
  "kernelspec": {
   "display_name": "Python 3",
   "language": "python",
   "name": "python3"
  },
  "language_info": {
   "codemirror_mode": {
    "name": "ipython",
    "version": 3
   },
   "file_extension": ".py",
   "mimetype": "text/x-python",
   "name": "python",
   "nbconvert_exporter": "python",
   "pygments_lexer": "ipython3",
   "version": "3.5.2"
  }
 },
 "nbformat": 4,
 "nbformat_minor": 2
}
